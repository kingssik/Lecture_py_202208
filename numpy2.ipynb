{
 "cells": [
  {
   "cell_type": "code",
   "execution_count": 1,
   "metadata": {},
   "outputs": [],
   "source": [
    "import numpy as np\n",
    "\n",
    "arr1 = np.array([[1,2,3],\n",
    "                 [4,5,6],\n",
    "                 [7,8,9]])\n",
    "\n",
    "arr2 = np.array([[1,2,3],\n",
    "                 [4,15,6],\n",
    "                 [7,8,9]])"
   ]
  },
  {
   "cell_type": "code",
   "execution_count": 2,
   "metadata": {},
   "outputs": [
    {
     "data": {
      "text/plain": [
       "False"
      ]
     },
     "execution_count": 2,
     "metadata": {},
     "output_type": "execute_result"
    }
   ],
   "source": [
    "# 연산\n",
    "# 배열의 원소를 연산\n",
    "arr1.mean(axis=0)\n",
    "arr1.sum(axis=1)\n",
    "\n",
    "# 배열과 배열의 연산\n",
    "arr1 + arr2\n",
    "arr1 - arr2\n",
    "arr1 * arr2\n",
    "arr1 / arr2\n",
    "arr1 % arr2\n",
    "\n",
    "# 배열과 배열 비교\n",
    "arr1 == arr2  # 원소 단위로 비교\n",
    "np.array_equal(arr1, arr2)  # 배열 단위로 비교 (하나라도 다르면 False)\n"
   ]
  },
  {
   "cell_type": "code",
   "execution_count": 3,
   "metadata": {},
   "outputs": [
    {
     "data": {
      "text/plain": [
       "array([[[ 1,  2],\n",
       "        [ 3,  4],\n",
       "        [ 5,  6]],\n",
       "\n",
       "       [[ 7,  8],\n",
       "        [ 9, 10],\n",
       "        [11, 12]]])"
      ]
     },
     "execution_count": 3,
     "metadata": {},
     "output_type": "execute_result"
    }
   ],
   "source": [
    "# 배열의 형태 변환\n",
    "arr1.ndim  # 3 X 3\n",
    "arr1.shape\n",
    "arr1.reshape((1, 9))  # 원소의 갯수와 변형해서 만들 형태가 일치해야 한다.\n",
    "\n",
    "arr3 = np.arange(1, 13)\n",
    "arr3.reshape((4,-1))  # -1은 자동으로 갯수를 일치시켜 준다. -1 대신 3을 사용해도 됨 ㅇㅋ?\n",
    "# arr3.reshape((3,5)) -> 불가능\n",
    "arr3.reshape((2, 3, -1)) # 3차원으로 변경할 때 reshape(깊이(axis), 행, 열)\n"
   ]
  },
  {
   "cell_type": "code",
   "execution_count": 4,
   "metadata": {},
   "outputs": [
    {
     "name": "stdout",
     "output_type": "stream",
     "text": [
      "[[ 1  2  3  1  2  3]\n",
      " [ 4  5  6  4 15  6]\n",
      " [ 7  8  9  7  8  9]]\n"
     ]
    },
    {
     "data": {
      "text/plain": [
       "[array([[1, 2, 3],\n",
       "        [4, 5, 6],\n",
       "        [7, 8, 9]]),\n",
       " array([[ 1,  2,  3],\n",
       "        [ 4, 15,  6],\n",
       "        [ 7,  8,  9]])]"
      ]
     },
     "execution_count": 4,
     "metadata": {},
     "output_type": "execute_result"
    }
   ],
   "source": [
    "# 배열 붙이기, 자르기 -> 2차원 이상에서만 수행 가능 ㅇㅋ?\n",
    "\n",
    "# 붙이기\n",
    "np.concatenate((arr1, arr2), axis=0)\n",
    "arr4 = np.concatenate((arr1, arr2), axis=1)  # axis=0 기본값\n",
    "# 붙이기 전에 모양 일치하도록\n",
    "\n",
    "# 자르기\n",
    "print(arr4)\n",
    "np.split(arr4, 3, axis=1) # np.split(자를 배열, 자를 개수, 축 정보)\n",
    "np.split(arr4, 2, axis=1)\n"
   ]
  },
  {
   "cell_type": "code",
   "execution_count": 5,
   "metadata": {},
   "outputs": [
    {
     "name": "stdout",
     "output_type": "stream",
     "text": [
      "[[6 9 6 1]\n",
      " [1 2 8 7]\n",
      " [3 5 6 3]]\n"
     ]
    },
    {
     "data": {
      "text/plain": [
       "array([[1, 2, 6, 1],\n",
       "       [3, 5, 6, 3],\n",
       "       [6, 9, 8, 7]])"
      ]
     },
     "execution_count": 5,
     "metadata": {},
     "output_type": "execute_result"
    }
   ],
   "source": [
    "# 정렬\n",
    "# 1차원\n",
    "# 오름차순\n",
    "np.random.seed(1)\n",
    "arr5 = np.random.randint(1, 10, 12)\n",
    "# arr5.sort() # arr5의 원소가 정렬되어 원본에 반영\n",
    "arr6 = np.sort(arr5)  # 원본은 그대로 유지하면서 정렬된 복사본을 리턴 \n",
    "np.sort(arr5)\n",
    "arr5\n",
    "\n",
    "# 내림차순 -> 오름차순 상태에서 거꾸로 인덱싱\n",
    "arr6[::-1]\n",
    "\n",
    "# 2차원\n",
    "arr7 = arr5.reshape((3,4))\n",
    "print(arr7)\n",
    "np.sort(arr7)\n",
    "np.sort(arr7, axis=0)"
   ]
  }
 ],
 "metadata": {
  "kernelspec": {
   "display_name": "Python 3.10.6 64-bit",
   "language": "python",
   "name": "python3"
  },
  "language_info": {
   "codemirror_mode": {
    "name": "ipython",
    "version": 3
   },
   "file_extension": ".py",
   "mimetype": "text/x-python",
   "name": "python",
   "nbconvert_exporter": "python",
   "pygments_lexer": "ipython3",
   "version": "3.10.6"
  },
  "orig_nbformat": 4,
  "vscode": {
   "interpreter": {
    "hash": "3196968d684371006099b3d55edeef8ed90365227a30deaef86e5d4aa8519be0"
   }
  }
 },
 "nbformat": 4,
 "nbformat_minor": 2
}
