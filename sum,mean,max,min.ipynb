{
 "cells": [
  {
   "cell_type": "code",
   "execution_count": 1,
   "metadata": {},
   "outputs": [
    {
     "name": "stdout",
     "output_type": "stream",
     "text": [
      "[15 18 21 24]\n",
      "[10 26 42]\n",
      "6.5\n",
      "[5. 6. 7. 8.]\n",
      "[ 2.5  6.5 10.5]\n",
      "12\n",
      "[ 9 10 11 12]\n",
      "[ 4  8 12]\n",
      "1\n",
      "[1 2 3 4]\n",
      "[1 5 9]\n"
     ]
    }
   ],
   "source": [
    "import numpy as np\n",
    "\n",
    "arr1 = np.array([[1,2,3,4],\n",
    "                 [5,6,7,8],\n",
    "                 [9,10,11,12]])\n",
    "\n",
    "# 합 구하기\n",
    "# 세로 방향 - axis 0\n",
    "# 가로 방향 - axis 1\n",
    "print(arr1.sum(axis=0))\n",
    "print(arr1.sum(axis=1))\n",
    "\n",
    "# 평균, 최댓값, 최솟값\n",
    "print(arr1.mean())\n",
    "print(arr1.mean(axis=0))\n",
    "print(arr1.mean(axis=1))\n",
    "\n",
    "print(arr1.max())\n",
    "print(arr1.max(axis=0))\n",
    "print(arr1.max(axis=1))\n",
    "\n",
    "print(arr1.min())\n",
    "print(arr1.min(axis=0))\n",
    "print(arr1.min(axis=1))"
   ]
  }
 ],
 "metadata": {
  "kernelspec": {
   "display_name": "Python 3.10.6 64-bit",
   "language": "python",
   "name": "python3"
  },
  "language_info": {
   "codemirror_mode": {
    "name": "ipython",
    "version": 3
   },
   "file_extension": ".py",
   "mimetype": "text/x-python",
   "name": "python",
   "nbconvert_exporter": "python",
   "pygments_lexer": "ipython3",
   "version": "3.10.6"
  },
  "orig_nbformat": 4,
  "vscode": {
   "interpreter": {
    "hash": "3196968d684371006099b3d55edeef8ed90365227a30deaef86e5d4aa8519be0"
   }
  }
 },
 "nbformat": 4,
 "nbformat_minor": 2
}
