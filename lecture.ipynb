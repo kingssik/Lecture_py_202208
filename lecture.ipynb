{
 "cells": [
  {
   "cell_type": "code",
   "execution_count": null,
   "metadata": {},
   "outputs": [],
   "source": [
    "# 모듈을 불러오는 방법\n",
    "# 1. import 모듈이름\n",
    "# 2. from 모듈이름 import (원하는 함수 이름)\n",
    "\n",
    "# 모듈설치 : pip install 모듈이름\n",
    "# 모듈삭제 : pip uninstall 모듈이름\n",
    "# 모듈의 특정버전이 필요한 경우 모듈이름 뒤에 버전명 써준다. ex) pip install numpy==1.16.4"
   ]
  },
  {
   "cell_type": "code",
   "execution_count": 1,
   "metadata": {},
   "outputs": [
    {
     "name": "stdout",
     "output_type": "stream",
     "text": [
      "c:\\py_khs\n"
     ]
    }
   ],
   "source": [
    "import os\n",
    "# 현재 디렉토리\n",
    "print(os.getcwd()) # getcwd : 현재 디렉토리 알려주는 함수"
   ]
  },
  {
   "cell_type": "code",
   "execution_count": 2,
   "metadata": {},
   "outputs": [
    {
     "name": "stdout",
     "output_type": "stream",
     "text": [
      "C:\\py_khs\\py_test_chdir\n"
     ]
    }
   ],
   "source": [
    "# chdir(이동할 폴더) : 디렉토리 이동\n",
    "import os\n",
    "# 디렉토리 이동\n",
    "os.chdir(\"C:\\py_khs\\py_test_chdir\")\n",
    "print(os.getcwd())"
   ]
  },
  {
   "cell_type": "code",
   "execution_count": 4,
   "metadata": {},
   "outputs": [
    {
     "name": "stdout",
     "output_type": "stream",
     "text": [
      "C:\\py_khs\n"
     ]
    }
   ],
   "source": [
    "os.chdir(\"C:\\py_khs\")\n",
    "print(os.getcwd())"
   ]
  },
  {
   "cell_type": "code",
   "execution_count": 5,
   "metadata": {},
   "outputs": [
    {
     "data": {
      "text/plain": [
       "['.git', 'lecture.ipynb', 'practice.ipynb', 'py_test_chdir', 'test.py']"
      ]
     },
     "execution_count": 5,
     "metadata": {},
     "output_type": "execute_result"
    }
   ],
   "source": [
    "# listdir() : 입력한 경로에 파일 또는 폴더의 목록을 가져옴, 리스트로 반환 => []\n",
    "# 입력한 경로의 파일과 폴더 목록을 리스트로 반환하는 함수\n",
    "os.listdir(\"C:\\py_khs\")"
   ]
  },
  {
   "cell_type": "code",
   "execution_count": 8,
   "metadata": {},
   "outputs": [
    {
     "name": "stdout",
     "output_type": "stream",
     "text": [
      ".git\n",
      "lecture.ipynb\n",
      "practice.ipynb\n",
      "py_test_chdir\n",
      "test.py\n"
     ]
    }
   ],
   "source": [
    "# for문으로 폴더안의 파일과 폴더 출력\n",
    "for i in os.listdir(\"C:\\py_khs\"):\n",
    "    print(i)"
   ]
  },
  {
   "cell_type": "code",
   "execution_count": 10,
   "metadata": {},
   "outputs": [
    {
     "name": "stdout",
     "output_type": "stream",
     "text": [
      "True\n",
      "False\n"
     ]
    }
   ],
   "source": [
    "# exists() : 존재하는지 존재하지 않는지 있으면 True, 없으면 False\n",
    "# os.path.exists(특정폴더)\n",
    "print(os.path.exists(\"C:\\py_khs\\py_test_chdir\"))\n",
    "print(os.path.exists(\"C:\\py_khs\\py_test_chdir2\"))"
   ]
  },
  {
   "cell_type": "code",
   "execution_count": 13,
   "metadata": {},
   "outputs": [
    {
     "ename": "FileExistsError",
     "evalue": "[WinError 183] 파일이 이미 있으므로 만들 수 없습니다: 'C:\\\\py_khs\\\\py_test2'",
     "output_type": "error",
     "traceback": [
      "\u001b[1;31m---------------------------------------------------------------------------\u001b[0m",
      "\u001b[1;31mFileExistsError\u001b[0m                           Traceback (most recent call last)",
      "\u001b[1;32mc:\\py_khs\\lecture.ipynb 셀 8\u001b[0m in \u001b[0;36m<cell line: 2>\u001b[1;34m()\u001b[0m\n\u001b[0;32m      <a href='vscode-notebook-cell:/c%3A/py_khs/lecture.ipynb#X11sZmlsZQ%3D%3D?line=0'>1</a>\u001b[0m \u001b[39m# mkdir(폴더경로, 이름) : 폴더 생성 함수\u001b[39;00m\n\u001b[1;32m----> <a href='vscode-notebook-cell:/c%3A/py_khs/lecture.ipynb#X11sZmlsZQ%3D%3D?line=1'>2</a>\u001b[0m os\u001b[39m.\u001b[39;49mmkdir(\u001b[39m\"\u001b[39;49m\u001b[39mC:\u001b[39;49m\u001b[39m\\\u001b[39;49m\u001b[39mpy_khs\u001b[39;49m\u001b[39m\\\u001b[39;49m\u001b[39mpy_test2\u001b[39;49m\u001b[39m\"\u001b[39;49m)\n",
      "\u001b[1;31mFileExistsError\u001b[0m: [WinError 183] 파일이 이미 있으므로 만들 수 없습니다: 'C:\\\\py_khs\\\\py_test2'"
     ]
    }
   ],
   "source": [
    "# mkdir(폴더이름) : 폴더 생성 함수\n",
    "# mkdir() => 경로의 제일 마지막에 적힌 하나의 폴더만 생성\n",
    "os.mkdir(\"C:\\py_khs\\py_test2\")\n",
    "\n",
    "# os.mkdir(\"C:\\py_khs\\py_test3\\py_test_4\") 불가능\n",
    "# makedirs() => 시작부터 끝까지 경로 안에 있는 폴더 생성(하위폴더까지 포함)\n",
    "os.makedirs(\"C:\\py_khs\\py_test3\\py_test_4\")\n",
    "\n",
    "# mkdir, makedirs 모두 폴더(디렉토리)를 만드는 함수"
   ]
  },
  {
   "cell_type": "code",
   "execution_count": 17,
   "metadata": {},
   "outputs": [],
   "source": [
    "# rmdir(폴더이름) : 폴더 삭제 함수\n",
    "os.rmdir(\"C:\\py_khs\\py_test2\")\n",
    "# removedirs(폴더이름) : 모든 경로에 있는 폴더 삭제 함수\n",
    "# 폴더를 삭제하려고 할 때 반드시 비어있어야 한다.\n",
    "os.rmdir('C:\\py_khs\\py_test3\\py_test_4')"
   ]
  },
  {
   "cell_type": "code",
   "execution_count": 18,
   "metadata": {},
   "outputs": [],
   "source": [
    "# rmdir(), removedirs() 모두 폴더를 삭제하는 명령어이다. 두 명령어 모두 삭제할 폴더는 반드시 비어있어야 한다.\n",
    "# 아래 코드에서 C:\\py_khs\\py_test3 폴더를 삭제하는데 rmdir함수를 사용하면 py_test3 폴더를 삭제\n",
    "# 이때 py_khs는 삭제되지 않는다. 그러므로 한 번 더 rmdir('C:\\py_khs')해야 한다.\n",
    "# 그러나 removedirs()를 사용할 경우 모든 경로의 폴더를 한 번에 전부 삭제할 수 있다.(비어있는 경우에 한한다.)\n",
    "os.rmdir('C:\\py_khs\\py_test3')"
   ]
  },
  {
   "cell_type": "code",
   "execution_count": null,
   "metadata": {},
   "outputs": [],
   "source": [
    "# 기호와 기호의 모드\n",
    "# t:텍스트(기본) / b:바이너리 / r:읽기 / w:쓰기(덮어쓰기) / a:이어쓰기 / +:읽기, 쓰기\n",
    "\n",
    "# 파일에 내용을 저장하는 순서\n",
    "# open -> write -> close"
   ]
  },
  {
   "cell_type": "code",
   "execution_count": 24,
   "metadata": {},
   "outputs": [],
   "source": [
    "# 확장자명 필수\n",
    "file = open(\"text.txt\", \"a\")\n",
    "file.write(\"hello world? hello?\") \n",
    "file.close()"
   ]
  },
  {
   "cell_type": "code",
   "execution_count": null,
   "metadata": {},
   "outputs": [],
   "source": []
  }
 ],
 "metadata": {
  "kernelspec": {
   "display_name": "Python 3.10.6 64-bit",
   "language": "python",
   "name": "python3"
  },
  "language_info": {
   "codemirror_mode": {
    "name": "ipython",
    "version": 3
   },
   "file_extension": ".py",
   "mimetype": "text/x-python",
   "name": "python",
   "nbconvert_exporter": "python",
   "pygments_lexer": "ipython3",
   "version": "3.10.6"
  },
  "orig_nbformat": 4,
  "vscode": {
   "interpreter": {
    "hash": "3196968d684371006099b3d55edeef8ed90365227a30deaef86e5d4aa8519be0"
   }
  }
 },
 "nbformat": 4,
 "nbformat_minor": 2
}
