{
 "cells": [
  {
   "cell_type": "code",
   "execution_count": null,
   "metadata": {},
   "outputs": [],
   "source": [
    "# 모듈을 불러오는 방법\n",
    "# 1. import 모듈이름\n",
    "# 2. from 모듈이름 import (원하는 함수 이름)\n",
    "\n",
    "# 모듈설치 : pip install 모듈이름\n",
    "# 모듈삭제 : pip uninstall 모듈이름\n",
    "# 모듈의 특정버전이 필요한 경우 모듈이름 뒤에 버전명 써준다. ex) pip install numpy==1.16.4"
   ]
  },
  {
   "cell_type": "code",
   "execution_count": 1,
   "metadata": {},
   "outputs": [
    {
     "name": "stdout",
     "output_type": "stream",
     "text": [
      "c:\\py_khs\n"
     ]
    }
   ],
   "source": [
    "import os\n",
    "# 현재 디렉토리\n",
    "print(os.getcwd()) # getcwd : 현재 디렉토리 알려주는 함수"
   ]
  },
  {
   "cell_type": "code",
   "execution_count": 2,
   "metadata": {},
   "outputs": [
    {
     "name": "stdout",
     "output_type": "stream",
     "text": [
      "C:\\py_khs\\py_test_chdir\n"
     ]
    }
   ],
   "source": [
    "# chdir(이동할 폴더) : 디렉토리 이동\n",
    "import os\n",
    "# 디렉토리 이동\n",
    "os.chdir(\"C:\\py_khs\\py_test_chdir\")\n",
    "print(os.getcwd())"
   ]
  },
  {
   "cell_type": "code",
   "execution_count": 4,
   "metadata": {},
   "outputs": [
    {
     "name": "stdout",
     "output_type": "stream",
     "text": [
      "C:\\py_khs\n"
     ]
    }
   ],
   "source": [
    "os.chdir(\"C:\\py_khs\")\n",
    "print(os.getcwd())"
   ]
  },
  {
   "cell_type": "code",
   "execution_count": 5,
   "metadata": {},
   "outputs": [
    {
     "data": {
      "text/plain": [
       "['.git', 'lecture.ipynb', 'practice.ipynb', 'py_test_chdir', 'test.py']"
      ]
     },
     "execution_count": 5,
     "metadata": {},
     "output_type": "execute_result"
    }
   ],
   "source": [
    "# listdir() : 입력한 경로에 파일 또는 폴더의 목록을 가져옴, 리스트로 반환 => []\n",
    "# 입력한 경로의 파일과 폴더 목록을 리스트로 반환하는 함수\n",
    "os.listdir(\"C:\\py_khs\")"
   ]
  },
  {
   "cell_type": "code",
   "execution_count": 8,
   "metadata": {},
   "outputs": [
    {
     "name": "stdout",
     "output_type": "stream",
     "text": [
      ".git\n",
      "lecture.ipynb\n",
      "practice.ipynb\n",
      "py_test_chdir\n",
      "test.py\n"
     ]
    }
   ],
   "source": [
    "for i in os.listdir(\"C:\\py_khs\"):\n",
    "    print(i)"
   ]
  },
  {
   "cell_type": "code",
   "execution_count": 10,
   "metadata": {},
   "outputs": [
    {
     "name": "stdout",
     "output_type": "stream",
     "text": [
      "True\n",
      "False\n"
     ]
    }
   ],
   "source": [
    "# exists() : 존재하는지 존재하지 않는지 있으면 True, 없으면 False\n",
    "# os.path.exists(특정폴더)\n",
    "print(os.path.exists(\"C:\\py_khs\\py_test_chdir\"))\n",
    "print(os.path.exists(\"C:\\py_khs\\py_test_chdir2\"))"
   ]
  },
  {
   "cell_type": "code",
   "execution_count": null,
   "metadata": {},
   "outputs": [],
   "source": []
  }
 ],
 "metadata": {
  "kernelspec": {
   "display_name": "Python 3.10.6 64-bit",
   "language": "python",
   "name": "python3"
  },
  "language_info": {
   "codemirror_mode": {
    "name": "ipython",
    "version": 3
   },
   "file_extension": ".py",
   "mimetype": "text/x-python",
   "name": "python",
   "nbconvert_exporter": "python",
   "pygments_lexer": "ipython3",
   "version": "3.10.6"
  },
  "orig_nbformat": 4,
  "vscode": {
   "interpreter": {
    "hash": "3196968d684371006099b3d55edeef8ed90365227a30deaef86e5d4aa8519be0"
   }
  }
 },
 "nbformat": 4,
 "nbformat_minor": 2
}
