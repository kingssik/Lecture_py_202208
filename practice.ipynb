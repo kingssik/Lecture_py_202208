{
 "cells": [
  {
   "cell_type": "code",
   "execution_count": 3,
   "metadata": {},
   "outputs": [
    {
     "name": "stdout",
     "output_type": "stream",
     "text": [
      "hello\n"
     ]
    }
   ],
   "source": [
    "print('hello')"
   ]
  },
  {
   "cell_type": "code",
   "execution_count": 4,
   "metadata": {},
   "outputs": [
    {
     "name": "stdout",
     "output_type": "stream",
     "text": [
      "자동차가 최대속력 220km로 달립니다.\n",
      "자동차가 최대속력 250km로 달립니다.\n"
     ]
    }
   ],
   "source": [
    "# 문제 : 자동차 객체를 담을 변수를 만들어주세요.\n",
    "# 자동차 객체를 변수에 담고 그 변수를 이용해 최고속력이 서로 다르게 만들어주세요.\n",
    "\n",
    "# 각 자동차가 자신의 최고속력으로 달리게 해주세요.\n",
    "\n",
    "\n",
    "# 출력 : 자동차가 최대속력 220km로 달립니다.\n",
    "# 출력 : 자동차가 최대속력 250km로 달립니다.\n",
    "\n",
    "class Car :\n",
    "\n",
    "    maxVelo = 0\n",
    "\n",
    "    def drive(self) :\n",
    "        print(\"자동차가 최대속력 {}km로 달립니다.\".format(self.maxVelo))\n",
    "\n",
    "c1 = Car()\n",
    "c2 = Car()\n",
    "\n",
    "c1.maxVelo = 220\n",
    "c2.maxVelo = 250\n",
    "\n",
    "c1.drive()\n",
    "c2.drive()"
   ]
  },
  {
   "cell_type": "code",
   "execution_count": null,
   "metadata": {},
   "outputs": [],
   "source": []
  }
 ],
 "metadata": {
  "kernelspec": {
   "display_name": "Python 3.10.6 64-bit",
   "language": "python",
   "name": "python3"
  },
  "language_info": {
   "codemirror_mode": {
    "name": "ipython",
    "version": 3
   },
   "file_extension": ".py",
   "mimetype": "text/x-python",
   "name": "python",
   "nbconvert_exporter": "python",
   "pygments_lexer": "ipython3",
   "version": "3.10.6"
  },
  "orig_nbformat": 4,
  "vscode": {
   "interpreter": {
    "hash": "3196968d684371006099b3d55edeef8ed90365227a30deaef86e5d4aa8519be0"
   }
  }
 },
 "nbformat": 4,
 "nbformat_minor": 2
}
