{
 "cells": [
  {
   "cell_type": "code",
   "execution_count": 2,
   "metadata": {},
   "outputs": [
    {
     "data": {
      "text/plain": [
       "list"
      ]
     },
     "execution_count": 2,
     "metadata": {},
     "output_type": "execute_result"
    }
   ],
   "source": [
    "#ndArrary\n",
    "\n",
    "import numpy as np\n",
    "\n",
    "# 1차원 ndArray 생성\n",
    "np.array([1,2,3,4])\n",
    "arr1 = np.array((1,2,3,4)) # 넘파이 ndArray\n",
    "arr2 = [1,2,3,4]  # 파이썬 리스트\n",
    "type(arr1)\n",
    "type(arr2)\n",
    "\n"
   ]
  },
  {
   "cell_type": "code",
   "execution_count": 3,
   "metadata": {},
   "outputs": [
    {
     "data": {
      "text/plain": [
       "3"
      ]
     },
     "execution_count": 3,
     "metadata": {},
     "output_type": "execute_result"
    }
   ],
   "source": [
    "# 2차원 ndArray\n",
    "arr2 = np.array([[1,2,3,4], [5,6,7,8]])\n",
    "\n",
    "# 3차원 ndArray\n",
    "arr3 = np.array([[[1.0,2.0,3.0,4.0], [5,6,7,8]],[[1,2,3,4], [5,6,7,8]]])\n",
    "\n",
    "# 차원 확인\n",
    "arr1.ndim\n",
    "arr2.ndim\n",
    "arr3.ndim"
   ]
  },
  {
   "cell_type": "code",
   "execution_count": 4,
   "metadata": {},
   "outputs": [
    {
     "data": {
      "text/plain": [
       "dtype('float64')"
      ]
     },
     "execution_count": 4,
     "metadata": {},
     "output_type": "execute_result"
    }
   ],
   "source": [
    "# 배열의 형태 확인\n",
    "arr1.shape\n",
    "arr2.shape\n",
    "arr3.shape\n",
    "\n",
    "# 배열의 사이즈\n",
    "arr1.size\n",
    "arr2.size\n",
    "arr3.size\n",
    "\n",
    "# 원소의 타입 dtype\n",
    "arr1.dtype\n",
    "arr2.dtype\n",
    "arr3.dtype"
   ]
  },
  {
   "cell_type": "code",
   "execution_count": 5,
   "metadata": {},
   "outputs": [
    {
     "data": {
      "text/plain": [
       "array([[5, 5, 5, 5],\n",
       "       [5, 5, 5, 5]])"
      ]
     },
     "execution_count": 5,
     "metadata": {},
     "output_type": "execute_result"
    }
   ],
   "source": [
    "# 배열 생성 함수\n",
    "# 0 행렬\n",
    "np.zeros((3, 4))  # 3*4 행렬에 0으로 채우는 함수\n",
    "\n",
    "# 1 행렬\n",
    "np.ones((2,3,4))\n",
    "\n",
    "# k 행렬\n",
    "np.full((2, 2), 3)\n",
    "\n",
    "# like 함수 => 다른 배열의 모양을 본따서 만드는 함수\n",
    "np.zeros_like(arr2)\n",
    "np.ones_like(arr2)\n",
    "np.full_like(arr2, 5)"
   ]
  },
  {
   "cell_type": "code",
   "execution_count": 6,
   "metadata": {},
   "outputs": [
    {
     "data": {
      "text/plain": [
       "array([[-91,  25, -85],\n",
       "       [-36,  13,  23]])"
      ]
     },
     "execution_count": 6,
     "metadata": {},
     "output_type": "execute_result"
    }
   ],
   "source": [
    "# random => 난수 발생\n",
    "np.random.seed(10)  # 난수를 최초로 한 번만 생성\n",
    "np.random.randint(-100, 100, (2, 3))  # -100 ~ 100 사이의 숫자로 2 X 3 행렬 생성"
   ]
  },
  {
   "cell_type": "code",
   "execution_count": 7,
   "metadata": {},
   "outputs": [
    {
     "data": {
      "text/plain": [
       "array([3, 4])"
      ]
     },
     "execution_count": 7,
     "metadata": {},
     "output_type": "execute_result"
    }
   ],
   "source": [
    "# 리스트 인덱싱\n",
    "li = [1,2,3,4]\n",
    "li[0]\n",
    "\n",
    "# 1차원 배열 인덱싱\n",
    "arr1[0] # 하나만 접근\n",
    "# arr[시작:끝:간격]\n",
    "arr1[0:4:2] # 슬라이싱\n",
    "\n",
    "# 2차원 배열 인덱싱\n",
    "arr2[0, 1]  # 행과 열 두 개의 축 정보 필요\n",
    "arr2[1, 2]\n",
    "\n",
    "arr2[1:2:, 1:3:]  # 슬라이싱\n",
    "\n",
    "# fancy 인덱싱 -> 원하는 인덱스를 배열로 넘기는 것.\n",
    "# 1차원\n",
    "arr1[[0,1,3]]\n",
    "\n",
    "# 2차원\n",
    "arr2[[0,1], [1, 2]]\n",
    "arr2[::, [0, 3]]\n",
    "\n",
    "# 논리값 인덱싱\n",
    "arr1[[True, False, True, False]] # True인 원소만 나옴\n",
    "arr1[arr1 > 2]\n"
   ]
  }
 ],
 "metadata": {
  "kernelspec": {
   "display_name": "Python 3.10.6 64-bit",
   "language": "python",
   "name": "python3"
  },
  "language_info": {
   "codemirror_mode": {
    "name": "ipython",
    "version": 3
   },
   "file_extension": ".py",
   "mimetype": "text/x-python",
   "name": "python",
   "nbconvert_exporter": "python",
   "pygments_lexer": "ipython3",
   "version": "3.10.6"
  },
  "orig_nbformat": 4,
  "vscode": {
   "interpreter": {
    "hash": "3196968d684371006099b3d55edeef8ed90365227a30deaef86e5d4aa8519be0"
   }
  }
 },
 "nbformat": 4,
 "nbformat_minor": 2
}
