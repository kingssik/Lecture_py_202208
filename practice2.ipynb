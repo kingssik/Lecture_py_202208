{
 "cells": [
  {
   "cell_type": "code",
   "execution_count": null,
   "metadata": {},
   "outputs": [],
   "source": [
    "# as 별칭\n",
    "# ex) import math as m => math.ceil()을 m.ceil()로 가능\n",
    "\n",
    "# pip install 모듈이름 : 설치\n",
    "# pip uninstall 모듈이름 : 삭제\n",
    "# pip list"
   ]
  },
  {
   "cell_type": "code",
   "execution_count": 2,
   "metadata": {},
   "outputs": [],
   "source": [
    "# openpyxl 모듈을 가져옴\n",
    "import numbers\n",
    "from openpyxl import *\n",
    "# 엑셀 추가(open)\n",
    "w1 = Workbook()\n",
    "ws = w1.active  # 활성화\n",
    "# 엑셀 저장(save('파일명.확장자명'))\n",
    "w1.save('test.xlsx')\n",
    "# 엑셀 로드\n",
    "w2 = load_workbook('test.xlsx')\n",
    "ws2 = w2.active\n",
    "# 셀을 선택해서 편집하는 방법 (편집 후에는 무조건 save)\n",
    "ws2['A1'] = 'hello dude'\n",
    "w2.save('test.xlsx')\n",
    "ws2['C1'] = 'python'\n",
    "w2.save('test.xlsx')\n",
    "\n",
    "# 응용 - 원하는 범위만큼 셀 편집하는 방법\n",
    "a = 'python'\n",
    "for row in ws2['D5':'F8']:\n",
    "    for cell in row:\n",
    "        cell.value = a\n",
    "w2.save('test.xlsx')\n",
    "\n",
    "# 응용문제 - 셀 A1부터 C3까지 숫자 1씩 증가시켜 입력\n",
    "num = 1\n",
    "for row in ws2['A1':'C3']:\n",
    "    for cell in row:\n",
    "        cell.value = num\n",
    "        num+=1\n",
    "\n",
    "w2.save('test.xlsx')"
   ]
  },
  {
   "cell_type": "code",
   "execution_count": 6,
   "metadata": {},
   "outputs": [],
   "source": [
    "# create_sheet() : 새 엑셀시트 생성\n",
    "# 새롭게 생성된 시트는 맨 마지막 탭에 추가됨.\n",
    "newws = w2.create_sheet()\n",
    "\n",
    "# 시트 이름 설정\n",
    "newws. title = '마지막 시트'\n",
    "\n",
    "# 원하는 위치에 원하는 이름으로 시트 생성\n",
    "w2.create_sheet('1번시트', 0)\n",
    "\n",
    "w2.save('test.xlsx')"
   ]
  },
  {
   "cell_type": "code",
   "execution_count": null,
   "metadata": {},
   "outputs": [],
   "source": []
  }
 ],
 "metadata": {
  "kernelspec": {
   "display_name": "Python 3.10.6 64-bit",
   "language": "python",
   "name": "python3"
  },
  "language_info": {
   "codemirror_mode": {
    "name": "ipython",
    "version": 3
   },
   "file_extension": ".py",
   "mimetype": "text/x-python",
   "name": "python",
   "nbconvert_exporter": "python",
   "pygments_lexer": "ipython3",
   "version": "3.10.6"
  },
  "orig_nbformat": 4,
  "vscode": {
   "interpreter": {
    "hash": "3196968d684371006099b3d55edeef8ed90365227a30deaef86e5d4aa8519be0"
   }
  }
 },
 "nbformat": 4,
 "nbformat_minor": 2
}
