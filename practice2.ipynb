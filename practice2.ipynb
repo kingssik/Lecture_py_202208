{
 "cells": [
  {
   "cell_type": "code",
   "execution_count": null,
   "metadata": {},
   "outputs": [],
   "source": [
    "# as 별칭\n",
    "# ex) import math as m => math.ceil()을 m.ceil()로 가능\n",
    "\n",
    "# pip install 모듈이름 : 설치\n",
    "# pip uninstall 모듈이름 : 삭제\n",
    "# pip list"
   ]
  },
  {
   "cell_type": "code",
   "execution_count": 2,
   "metadata": {},
   "outputs": [],
   "source": [
    "# openpyxl 모듈을 가져옴\n",
    "import numbers\n",
    "from openpyxl import *\n",
    "# 엑셀 추가(open)\n",
    "w1 = Workbook()\n",
    "ws = w1.active  # 활성화\n",
    "# 엑셀 저장(save('파일명.확장자명'))\n",
    "w1.save('test.xlsx')\n",
    "# 엑셀 로드\n",
    "w2 = load_workbook('test.xlsx')\n",
    "ws2 = w2.active\n",
    "# 셀을 선택해서 편집하는 방법 (편집 후에는 무조건 save)\n",
    "ws2['A1'] = 'hello dude'\n",
    "w2.save('test.xlsx')\n",
    "ws2['C1'] = 'python'\n",
    "w2.save('test.xlsx')\n",
    "\n",
    "# 응용 - 원하는 범위만큼 셀 편집하는 방법\n",
    "a = 'python'\n",
    "for row in ws2['D5':'F8']:\n",
    "    for cell in row:\n",
    "        cell.value = a\n",
    "w2.save('test.xlsx')\n",
    "\n",
    "# 응용문제 - 셀 A1부터 C3까지 숫자 1씩 증가시켜 입력\n",
    "num = 1\n",
    "for row in ws2['A1':'C3']:\n",
    "    for cell in row:\n",
    "        cell.value = num\n",
    "        num+=1\n",
    "\n",
    "w2.save('test.xlsx')"
   ]
  },
  {
   "cell_type": "code",
   "execution_count": 6,
   "metadata": {},
   "outputs": [],
   "source": [
    "# create_sheet() : 새 엑셀시트 생성\n",
    "# 새롭게 생성된 시트는 맨 마지막 탭에 추가됨.\n",
    "newws = w2.create_sheet()\n",
    "\n",
    "# 시트 이름 설정\n",
    "newws. title = '마지막 시트'\n",
    "\n",
    "# 원하는 위치에 원하는 이름으로 시트 생성\n",
    "w2.create_sheet('1번시트', 0)\n",
    "\n",
    "w2.save('test.xlsx')"
   ]
  },
  {
   "cell_type": "code",
   "execution_count": 16,
   "metadata": {},
   "outputs": [],
   "source": [
    "# 리스트는 수정이 가능하지만 튜플은 불가능하다.\n",
    "\n",
    "# 응용문제\n",
    "# 1. 딕셔너리 생성\n",
    "item1 = {'품목':'바나나', '가격':5000, '수량':1, '날짜': '2022-08-28'}\n",
    "item2 = {'품목':'커피', '가격':3000, '수량':2, '날짜': '2022-08-29'}\n",
    "item3 = {'품목':'책', '가격':15000, '수량':3, '날짜': '2022-08-30'}\n",
    "item4 = {'품목':'펜', '가격':1000, '수량':4, '날짜': '2022-08-31'}\n",
    "# 2. 딕셔너리가 들어있는 리스트 만들기\n",
    "items = [item1, item2, item3, item4]\n",
    "# 3. 엑셀파일 생성\n",
    "wb = Workbook()\n",
    "ws = wb.active\n",
    "# 4. 헤더(메타데이터) 만들기\n",
    "ws['A1'] = '품목'\n",
    "ws['B1'] = '가격'\n",
    "ws['C1'] = '수량'\n",
    "ws['D1'] = '날짜'\n",
    "# 5. 데이터 삽입\n",
    "i = 2\n",
    "for item in items:\n",
    "    ws['A'+str(i)] = item['품목']\n",
    "    ws['B'+str(i)] = item['가격']\n",
    "    ws['C'+str(i)] = item['수량']\n",
    "    ws['D'+str(i)] = item['날짜']\n",
    "    i+=1\n",
    "# 6. 엑셀 저장\n",
    "wb.save(\"test2.xlsx\")"
   ]
  },
  {
   "cell_type": "code",
   "execution_count": 17,
   "metadata": {},
   "outputs": [
    {
     "name": "stdout",
     "output_type": "stream",
     "text": [
      "출력\n"
     ]
    }
   ],
   "source": [
    "import time\n",
    "# 3초 후 명령문 실행 => 페이지 로딩 등에 필요\n",
    "time.sleep(3)\n",
    "print('출력')"
   ]
  }
 ],
 "metadata": {
  "kernelspec": {
   "display_name": "Python 3.10.6 64-bit",
   "language": "python",
   "name": "python3"
  },
  "language_info": {
   "codemirror_mode": {
    "name": "ipython",
    "version": 3
   },
   "file_extension": ".py",
   "mimetype": "text/x-python",
   "name": "python",
   "nbconvert_exporter": "python",
   "pygments_lexer": "ipython3",
   "version": "3.10.6"
  },
  "orig_nbformat": 4,
  "vscode": {
   "interpreter": {
    "hash": "3196968d684371006099b3d55edeef8ed90365227a30deaef86e5d4aa8519be0"
   }
  }
 },
 "nbformat": 4,
 "nbformat_minor": 2
}
