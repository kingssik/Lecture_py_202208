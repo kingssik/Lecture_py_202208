{
 "cells": [
  {
   "cell_type": "code",
   "execution_count": 17,
   "metadata": {},
   "outputs": [
    {
     "name": "stdout",
     "output_type": "stream",
     "text": [
      "<Response [200]>\n",
      "[<a class=\"sister\" href=\"http://example.com/elsie\" id=\"link1\">Elsie</a>, <a class=\"sister\" href=\"http://example.com/lacie\" id=\"link2\">Lacie</a>, <a class=\"sister\" href=\"http://example.com/tillie\" id=\"link3\">Tillie</a>]\n",
      "<a class=\"sister\" href=\"http://example.com/lacie\" id=\"link2\">Lacie</a>\n",
      "Lacie\n",
      "http://example.com/lacie\n"
     ]
    }
   ],
   "source": [
    "import requests as req # requests 모듈 -> 웹페이지를 요청하고 응답데이터를 받을 수 있음\n",
    "from bs4 import BeautifulSoup # BeautifulSoup은 html 해석기\n",
    "request_headers = {'User-Agent': ('Mozilla/5.0 (Windows NT 10.0;Win64; x64)AppleWebKit/537.36 (KHTML, like Gecko) Chrome/71.0.3578.98Safari/537.36'), }\n",
    "\n",
    "response = req.get('https://news.naver.com/', headers = request_headers) # 특정 사이트에 페이지를 요청, 응답데이터 반환\n",
    "print(response) # <Response [200]> : 연결 성공\n",
    "\n",
    "# HTML을 읽어와야 함\n",
    "# print(response.text) 용도:확인\n",
    "response.text\n",
    "html_doc = \"\"\"<html><head><title>The Dormouse's story</title></head>\n",
    "<body>\n",
    "<p class=\"title\"><b>The Dormouse's story</b></p>\n",
    "\n",
    "<p class=\"story\">Once upon a time there were three little sisters; and their names were\n",
    "<a href=\"http://example.com/elsie\" class=\"sister\" id=\"link1\">Elsie</a>,\n",
    "<a href=\"http://example.com/lacie\" class=\"sister\" id=\"link2\">Lacie</a> and\n",
    "<a href=\"http://example.com/tillie\" class=\"sister\" id=\"link3\">Tillie</a>;\n",
    "and they lived at the bottom of a well.</p>\n",
    "\n",
    "<p class=\"story\">...</p>\n",
    "\"\"\"\n",
    "\n",
    "# print(html_doc)\n",
    "soup = BeautifulSoup(html_doc, 'html.parser') # soup을 이용해서 html_doc 문자열을 html 파싱. 그 내용을 soup 변수로 대입\n",
    "alist = soup.select(\"a\") # 선택자를 이용해 태그 선택, 결과를 리스트([])로 반환\n",
    "print(alist)\n",
    "print(alist[1])\n",
    "\n",
    "# 텍스트 가져오기\n",
    "print(alist[1].text)\n",
    "# 속성값 가져오기<태그명 속성명=\"속성값\">\n",
    "print(alist[1][\"href\"])\n"
   ]
  },
  {
   "cell_type": "code",
   "execution_count": 32,
   "metadata": {},
   "outputs": [
    {
     "name": "stdout",
     "output_type": "stream",
     "text": [
      "\n",
      "                                    [르포] 英여왕 관 안치된 웨스트민스터 홀 직접 들어가보니\n",
      "                                \n"
     ]
    }
   ],
   "source": [
    "# 웹크롤링 연습\n",
    "import requests as req\n",
    "from bs4 import BeautifulSoup\n",
    "\n",
    "# 특정 사이트에 페이지 요청하고 응답데이터 반환\n",
    "response1 = req.get('https://news.daum.net/')\n",
    "response1.text\n",
    "# print(response1.text)\n",
    "soup1 = BeautifulSoup(response1.text, 'html.parser')\n",
    "# 텍스트 가져오기\n",
    "title = soup1.select(\".link_txt\")\n",
    "# print(title)\n",
    "print(title[3].text)"
   ]
  }
 ],
 "metadata": {
  "kernelspec": {
   "display_name": "Python 3.10.6 64-bit",
   "language": "python",
   "name": "python3"
  },
  "language_info": {
   "codemirror_mode": {
    "name": "ipython",
    "version": 3
   },
   "file_extension": ".py",
   "mimetype": "text/x-python",
   "name": "python",
   "nbconvert_exporter": "python",
   "pygments_lexer": "ipython3",
   "version": "3.10.6"
  },
  "orig_nbformat": 4,
  "vscode": {
   "interpreter": {
    "hash": "3196968d684371006099b3d55edeef8ed90365227a30deaef86e5d4aa8519be0"
   }
  }
 },
 "nbformat": 4,
 "nbformat_minor": 2
}
